{
 "cells": [
  {
   "cell_type": "markdown",
   "metadata": {},
   "source": [
    "#### Importations"
   ]
  },
  {
   "cell_type": "code",
   "execution_count": 37,
   "metadata": {},
   "outputs": [],
   "source": [
    "import os\n",
    "import librosa\n",
    "import numpy as np\n",
    "import pandas as pd\n",
    "import matplotlib.pyplot as plt"
   ]
  },
  {
   "cell_type": "code",
   "execution_count": 38,
   "metadata": {},
   "outputs": [],
   "source": [
    "genres = ['blues', 'classical', 'country', 'disco', 'hiphop', \n",
    "          'jazz', 'metal', 'pop', 'reggae', 'rock']"
   ]
  },
  {
   "cell_type": "code",
   "execution_count": 39,
   "metadata": {},
   "outputs": [],
   "source": [
    "# Créer un dictionnaire vide pour stocker les données audio pour chaque genre\n",
    "audio_files = {}\n",
    "\n",
    "# Itérer sur la liste des genres\n",
    "for g in genres:\n",
    "    # Créer une liste vide pour stocker les données audio pour le genre actuel\n",
    "    audio_files[g] = []"
   ]
  },
  {
   "cell_type": "code",
   "execution_count": 40,
   "metadata": {},
   "outputs": [],
   "source": [
    "# Itérer sur les fichiers audio dans le répertoire pour le genre actuel\n",
    "for audio in os.listdir(f'../Dataset/genres_original/{g}'):\n",
    "    # Charger les données audio en utilisant librosa et les ajouter à la liste pour le genre actuel\n",
    "    audio_data = librosa.load(f'../Dataset/genres_original/{g}/{audio}')[0]\n",
    "    audio_files[g].append(audio_data)"
   ]
  }
 ],
 "metadata": {
  "kernelspec": {
   "display_name": ".venv",
   "language": "python",
   "name": "python3"
  },
  "language_info": {
   "codemirror_mode": {
    "name": "ipython",
    "version": 3
   },
   "file_extension": ".py",
   "mimetype": "text/x-python",
   "name": "python",
   "nbconvert_exporter": "python",
   "pygments_lexer": "ipython3",
   "version": "3.9.12"
  }
 },
 "nbformat": 4,
 "nbformat_minor": 2
}
